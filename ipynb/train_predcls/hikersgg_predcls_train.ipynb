{
 "cells": [
  {
   "cell_type": "code",
   "execution_count": 1,
   "metadata": {
    "ExecuteTime": {
     "end_time": "2024-04-21T13:06:04.527276Z",
     "start_time": "2024-04-21T13:06:04.503816Z"
    },
    "execution": {
     "iopub.execute_input": "2024-04-23T07:55:42.695708Z",
     "iopub.status.busy": "2024-04-23T07:55:42.695388Z",
     "iopub.status.idle": "2024-04-23T07:55:42.720832Z",
     "shell.execute_reply": "2024-04-23T07:55:42.720225Z",
     "shell.execute_reply.started": "2024-04-23T07:55:42.695663Z"
    },
    "tags": []
   },
   "outputs": [],
   "source": [
    "%load_ext autoreload\n",
    "%autoreload 2\n",
    "import sys\n",
    "import os\n",
    "os.environ[\"CUDA_VISIBLE_DEVICES\"]=\"0\"\n",
    "codebase = '/output/HiKER-SGG/'\n",
    "sys.path.append(\"/output/HiKER-SGG/\")\n",
    "# sys.path.append('../../../')\n",
    "# sys.path.append('../../../apex')"
   ]
  },
  {
   "cell_type": "code",
   "execution_count": 2,
   "metadata": {
    "ExecuteTime": {
     "end_time": "2024-04-21T13:06:11.982343Z",
     "start_time": "2024-04-21T13:06:04.528530Z"
    },
    "execution": {
     "iopub.execute_input": "2024-04-23T07:55:42.722683Z",
     "iopub.status.busy": "2024-04-23T07:55:42.722429Z",
     "iopub.status.idle": "2024-04-23T07:55:43.555512Z",
     "shell.execute_reply": "2024-04-23T07:55:43.555034Z",
     "shell.execute_reply.started": "2024-04-23T07:55:42.722661Z"
    },
    "tags": []
   },
   "outputs": [
    {
     "data": {
      "text/plain": [
       "'1.12.0+cu113'"
      ]
     },
     "execution_count": 2,
     "metadata": {},
     "output_type": "execute_result"
    }
   ],
   "source": [
    "import torch\n",
    "torch.__version__"
   ]
  },
  {
   "cell_type": "code",
   "execution_count": 3,
   "metadata": {
    "ExecuteTime": {
     "end_time": "2024-04-21T13:06:12.005063Z",
     "start_time": "2024-04-21T13:06:11.985300Z"
    },
    "execution": {
     "iopub.execute_input": "2024-04-23T07:55:43.556305Z",
     "iopub.status.busy": "2024-04-23T07:55:43.556110Z",
     "iopub.status.idle": "2024-04-23T07:55:43.567934Z",
     "shell.execute_reply": "2024-04-23T07:55:43.567391Z",
     "shell.execute_reply.started": "2024-04-23T07:55:43.556290Z"
    },
    "tags": []
   },
   "outputs": [],
   "source": [
    "exp_name = 'hikersgg_predcls_train'"
   ]
  },
  {
   "cell_type": "code",
   "execution_count": 4,
   "metadata": {
    "ExecuteTime": {
     "end_time": "2024-04-21T13:06:33.782453Z",
     "start_time": "2024-04-21T13:06:12.006686Z"
    },
    "execution": {
     "iopub.execute_input": "2024-04-23T07:55:43.568679Z",
     "iopub.status.busy": "2024-04-23T07:55:43.568518Z",
     "iopub.status.idle": "2024-04-23T07:55:45.376585Z",
     "shell.execute_reply": "2024-04-23T07:55:45.375826Z",
     "shell.execute_reply.started": "2024-04-23T07:55:43.568665Z"
    },
    "tags": []
   },
   "outputs": [],
   "source": [
    "import os\n",
    "from time import time as time_time\n",
    "import numpy as np\n",
    "# from torch import optim\n",
    "from apex import amp\n",
    "import torch\n",
    "import pandas as pd\n",
    "from tqdm import tqdm\n",
    "write = tqdm.write\n",
    "\n",
    "from torch.optim.lr_scheduler import ReduceLROnPlateau\n",
    "\n",
    "from config import ModelConfig, BOX_SCALE, IM_SCALE\n",
    "from torch.nn import functional as F\n",
    "from lib.pytorch_misc import optimistic_restore, de_chunkize, clip_grad_norm\n",
    "from lib.evaluation.sg_eval import BasicSceneGraphEvaluator, calculate_mR_from_evaluator_list, eval_entry\n",
    "from lib.pytorch_misc import print_para\n",
    "from dataloaders.visual_genome import VGDataLoader, VG\n",
    "\n",
    "from lib.my_model_24 import KERN\n",
    "\n",
    "# sg val\n",
    "# import numpy\n",
    "# import pyximport\n",
    "# pyximport.install(setup_args={\"script_args\":[\"--compiler=mingw32\"],\n",
    "#                               \"include_dirs\":numpy.get_include()},\n",
    "#                   reload_support=True)\n",
    "# then delete \"script_args\":[\"--compiler=mingw32\"],\n"
   ]
  },
  {
   "cell_type": "code",
   "execution_count": 5,
   "metadata": {
    "ExecuteTime": {
     "end_time": "2024-04-21T13:06:33.833236Z",
     "start_time": "2024-04-21T13:06:33.784639Z"
    },
    "execution": {
     "iopub.execute_input": "2024-04-23T07:55:45.377974Z",
     "iopub.status.busy": "2024-04-23T07:55:45.377574Z",
     "iopub.status.idle": "2024-04-23T07:55:45.402312Z",
     "shell.execute_reply": "2024-04-23T07:55:45.401718Z",
     "shell.execute_reply.started": "2024-04-23T07:55:45.377956Z"
    },
    "tags": []
   },
   "outputs": [
    {
     "name": "stdout",
     "output_type": "stream",
     "text": [
      "~~~~~~~~ Hyperparameters used: ~~~~~~~\n",
      "ckpt : ../data/checkpoints/vgdet/vgrel-11.tar\n",
      "save_dir : ../data/checkpoints/kern_predcls/hikersgg_predcls_train\n",
      "num_gpus : 1\n",
      "num_workers : 8\n",
      "lr : 0.0001\n",
      "batch_size : 3\n",
      "val_size : 5000\n",
      "l2 : 0.0001\n",
      "adamwd : 0.0\n",
      "clip : 5.0\n",
      "print_interval : 2500\n",
      "mode : predcls\n",
      "cache : \n",
      "adam : True\n",
      "test : False\n",
      "test_n : False\n",
      "num_epochs : 50\n",
      "use_resnet : False\n",
      "use_proposals : False\n",
      "pooling_dim : 4096\n",
      "use_ggnn_obj : False\n",
      "ggnn_obj_time_step_num : 3\n",
      "ggnn_obj_hidden_dim : 512\n",
      "ggnn_obj_output_dim : 512\n",
      "use_obj_knowledge : False\n",
      "obj_knowledge : \n",
      "use_ggnn_rel : False\n",
      "ggnn_rel_time_step_num : 3\n",
      "ggnn_rel_hidden_dim : 512\n",
      "ggnn_rel_output_dim : 512\n",
      "use_rel_knowledge : False\n",
      "rel_knowledge : \n",
      "tb_log_dir : ../data/summaries/kern_predcls/hikersgg_predcls_train\n",
      "save_rel_recall : \n"
     ]
    }
   ],
   "source": [
    "conf = ModelConfig(f'''\n",
    "-m predcls -p 2500 -clip 5\n",
    "-tb_log_dir ../data/summaries/kern_predcls/{exp_name}\n",
    "-save_dir ../data/checkpoints/kern_predcls/{exp_name}\n",
    "-ckpt ../data/checkpoints/vgdet/vgrel-11.tar\n",
    "-val_size 5000\n",
    "-adam\n",
    "-b 3\n",
    "-ngpu 1\n",
    "-lr 1e-4\n",
    "''')\n",
    "# lr 1e-3"
   ]
  },
  {
   "cell_type": "code",
   "execution_count": 6,
   "metadata": {
    "ExecuteTime": {
     "end_time": "2024-04-21T13:06:33.859491Z",
     "start_time": "2024-04-21T13:06:33.834347Z"
    },
    "execution": {
     "iopub.execute_input": "2024-04-23T07:55:45.403151Z",
     "iopub.status.busy": "2024-04-23T07:55:45.402996Z",
     "iopub.status.idle": "2024-04-23T07:55:45.425490Z",
     "shell.execute_reply": "2024-04-23T07:55:45.424845Z",
     "shell.execute_reply.started": "2024-04-23T07:55:45.403137Z"
    },
    "tags": []
   },
   "outputs": [],
   "source": [
    "# modified\n",
    "conf.MODEL.CONF_MAT_FREQ_TRAIN = '/output/data/misc/conf_mat_freq_train.npy'\n",
    "conf.MODEL.LRGA.USE_LRGA = False\n",
    "conf.MODEL.USE_ONTOLOGICAL_ADJUSTMENT = False\n",
    "conf.MODEL.NORMALIZE_EOA = False\n",
    "conf.num_workers = 9\n",
    "# conf.MODEL.LRGA.K = 50\n",
    "# conf.MODEL.LRGA.DROPOUT = 0.5\n",
    "# conf.MODEL.GN.NUM_GROUPS = 1024//8"
   ]
  },
  {
   "cell_type": "code",
   "execution_count": 7,
   "metadata": {
    "ExecuteTime": {
     "end_time": "2024-04-21T13:06:33.886915Z",
     "start_time": "2024-04-21T13:06:33.860574Z"
    },
    "execution": {
     "iopub.execute_input": "2024-04-23T07:55:45.427605Z",
     "iopub.status.busy": "2024-04-23T07:55:45.427441Z",
     "iopub.status.idle": "2024-04-23T07:55:45.448229Z",
     "shell.execute_reply": "2024-04-23T07:55:45.447657Z",
     "shell.execute_reply.started": "2024-04-23T07:55:45.427590Z"
    },
    "scrolled": true,
    "tags": []
   },
   "outputs": [
    {
     "data": {
      "text/plain": [
       "'/output/HiKER-SGG/ipynb/train_predcls'"
      ]
     },
     "execution_count": 7,
     "metadata": {},
     "output_type": "execute_result"
    }
   ],
   "source": [
    "os.getcwd()"
   ]
  },
  {
   "cell_type": "code",
   "execution_count": 8,
   "metadata": {
    "ExecuteTime": {
     "end_time": "2024-04-21T13:06:38.153821Z",
     "start_time": "2024-04-21T13:06:33.887953Z"
    },
    "execution": {
     "iopub.execute_input": "2024-04-23T07:55:45.448828Z",
     "iopub.status.busy": "2024-04-23T07:55:45.448686Z",
     "iopub.status.idle": "2024-04-23T07:55:49.884107Z",
     "shell.execute_reply": "2024-04-23T07:55:49.883351Z",
     "shell.execute_reply.started": "2024-04-23T07:55:45.448815Z"
    },
    "tags": []
   },
   "outputs": [
    {
     "name": "stdout",
     "output_type": "stream",
     "text": [
      "Dataloader NOT using BPL\n",
      "Dataloader NOT using BPL\n",
      "Dataloader NOT using BPL\n"
     ]
    }
   ],
   "source": [
    "# For evaluating the confusion matrix\n",
    "train_full, val, test = VG.splits(num_val_im=conf.val_size, filter_duplicate_rels=True,\n",
    "                            use_proposals=conf.use_proposals,\n",
    "                            filter_non_overlap=conf.mode == 'sgdet', with_clean_classifier=False, get_state=False)"
   ]
  },
  {
   "cell_type": "code",
   "execution_count": 9,
   "metadata": {
    "ExecuteTime": {
     "end_time": "2024-04-21T13:06:38.183012Z",
     "start_time": "2024-04-21T13:06:38.155290Z"
    },
    "execution": {
     "iopub.execute_input": "2024-04-23T07:55:49.885115Z",
     "iopub.status.busy": "2024-04-23T07:55:49.884942Z",
     "iopub.status.idle": "2024-04-23T07:55:49.908747Z",
     "shell.execute_reply": "2024-04-23T07:55:49.908172Z",
     "shell.execute_reply.started": "2024-04-23T07:55:49.885100Z"
    },
    "tags": []
   },
   "outputs": [],
   "source": [
    "_, train_full_loader = VGDataLoader.splits(train_full, train_full, mode='rel',\n",
    "                                               batch_size=conf.batch_size,\n",
    "                                               num_workers=conf.num_workers,\n",
    "                                               num_gpus=conf.num_gpus,\n",
    "                                               pin_memory=True)"
   ]
  },
  {
   "cell_type": "code",
   "execution_count": 10,
   "metadata": {
    "ExecuteTime": {
     "end_time": "2024-04-21T13:06:42.709129Z",
     "start_time": "2024-04-21T13:06:38.184567Z"
    },
    "execution": {
     "iopub.execute_input": "2024-04-23T07:55:49.909540Z",
     "iopub.status.busy": "2024-04-23T07:55:49.909378Z",
     "iopub.status.idle": "2024-04-23T07:55:54.634795Z",
     "shell.execute_reply": "2024-04-23T07:55:54.633974Z",
     "shell.execute_reply.started": "2024-04-23T07:55:49.909526Z"
    },
    "tags": []
   },
   "outputs": [
    {
     "name": "stdout",
     "output_type": "stream",
     "text": [
      "Dataloader using BPL\n",
      "Dataloader using BPL\n",
      "Dataloader using BPL\n"
     ]
    }
   ],
   "source": [
    "train, val, test = VG.splits(num_val_im=conf.val_size, filter_duplicate_rels=True,\n",
    "                            use_proposals=conf.use_proposals,\n",
    "                            filter_non_overlap=conf.mode == 'sgdet', with_clean_classifier=True, get_state=False)"
   ]
  },
  {
   "cell_type": "code",
   "execution_count": 11,
   "metadata": {
    "ExecuteTime": {
     "end_time": "2024-04-21T13:06:42.741573Z",
     "start_time": "2024-04-21T13:06:42.712114Z"
    },
    "execution": {
     "iopub.execute_input": "2024-04-23T07:55:54.635864Z",
     "iopub.status.busy": "2024-04-23T07:55:54.635685Z",
     "iopub.status.idle": "2024-04-23T07:55:54.661265Z",
     "shell.execute_reply": "2024-04-23T07:55:54.660680Z",
     "shell.execute_reply.started": "2024-04-23T07:55:54.635846Z"
    },
    "tags": []
   },
   "outputs": [],
   "source": [
    "ind_to_predicates = train.ind_to_predicates # ind_to_predicates[0] means no relationship"
   ]
  },
  {
   "cell_type": "code",
   "execution_count": 12,
   "metadata": {
    "ExecuteTime": {
     "end_time": "2024-04-21T13:06:42.768408Z",
     "start_time": "2024-04-21T13:06:42.742974Z"
    },
    "execution": {
     "iopub.execute_input": "2024-04-23T07:55:54.662195Z",
     "iopub.status.busy": "2024-04-23T07:55:54.662032Z",
     "iopub.status.idle": "2024-04-23T07:55:54.679660Z",
     "shell.execute_reply": "2024-04-23T07:55:54.679155Z",
     "shell.execute_reply.started": "2024-04-23T07:55:54.662181Z"
    },
    "tags": []
   },
   "outputs": [],
   "source": [
    "train_loader, val_loader = VGDataLoader.splits(train, val, mode='rel',\n",
    "                                               batch_size=conf.batch_size,\n",
    "                                               num_workers=conf.num_workers,\n",
    "                                               num_gpus=conf.num_gpus,\n",
    "                                               pin_memory=True)\n"
   ]
  },
  {
   "cell_type": "code",
   "execution_count": 13,
   "metadata": {
    "ExecuteTime": {
     "end_time": "2024-04-21T13:06:51.396655Z",
     "start_time": "2024-04-21T13:06:42.769844Z"
    },
    "execution": {
     "iopub.execute_input": "2024-04-23T07:55:54.680460Z",
     "iopub.status.busy": "2024-04-23T07:55:54.680304Z",
     "iopub.status.idle": "2024-04-23T07:56:00.325606Z",
     "shell.execute_reply": "2024-04-23T07:56:00.324800Z",
     "shell.execute_reply.started": "2024-04-23T07:55:54.680446Z"
    },
    "tags": []
   },
   "outputs": [
    {
     "name": "stdout",
     "output_type": "stream",
     "text": [
      "my_ggnn_10: not using use_ontological_adjustment. self.use_ontological_adjustment=False\n",
      "!!!!!!!!!With Confusion Matrix Channel!!!!!\n",
      "SA: Used adj_normalize\n"
     ]
    }
   ],
   "source": [
    "detector = KERN(classes=train.ind_to_classes, rel_classes=train.ind_to_predicates,\n",
    "                num_gpus=conf.num_gpus, mode=conf.mode, require_overlap_det=True,\n",
    "                use_resnet=conf.use_resnet, use_proposals=conf.use_proposals, pooling_dim=conf.pooling_dim,\n",
    "                ggnn_rel_time_step_num=3, ggnn_rel_hidden_dim=1024, ggnn_rel_output_dim=None,\n",
    "                # 这三个参数是什么？\n",
    "                graph_path=os.path.join(codebase, 'graphs/005/all_edges_with_sccluster2_pred_ent.pkl'),\n",
    "                emb_path=os.path.join(codebase, 'graphs/001/emb_mtx_with_sccluster2_pred_ent.pkl'),\n",
    "                rel_counts_path=os.path.join(codebase, 'graphs/001/pred_counts.pkl'),\n",
    "                use_knowledge=True, use_embedding=True, refine_obj_cls=False,\n",
    "                class_volume=1.0, with_clean_classifier=True, with_transfer=True, sa=True, config=conf,\n",
    "                )"
   ]
  },
  {
   "cell_type": "code",
   "execution_count": 14,
   "metadata": {
    "ExecuteTime": {
     "end_time": "2024-04-21T13:06:51.424091Z",
     "start_time": "2024-04-21T13:06:51.398346Z"
    },
    "execution": {
     "iopub.execute_input": "2024-04-23T07:56:00.326701Z",
     "iopub.status.busy": "2024-04-23T07:56:00.326529Z",
     "iopub.status.idle": "2024-04-23T07:56:00.352609Z",
     "shell.execute_reply": "2024-04-23T07:56:00.352008Z",
     "shell.execute_reply.started": "2024-04-23T07:56:00.326686Z"
    },
    "tags": []
   },
   "outputs": [],
   "source": [
    "# Freeze the detector\n",
    "for n, param in detector.detector.named_parameters():\n",
    "    param.requires_grad = False"
   ]
  },
  {
   "cell_type": "code",
   "execution_count": 15,
   "metadata": {
    "ExecuteTime": {
     "end_time": "2024-04-21T13:06:51.482879Z",
     "start_time": "2024-04-21T13:06:51.457377Z"
    },
    "execution": {
     "iopub.execute_input": "2024-04-23T07:56:00.353440Z",
     "iopub.status.busy": "2024-04-23T07:56:00.353286Z",
     "iopub.status.idle": "2024-04-23T07:56:00.375692Z",
     "shell.execute_reply": "2024-04-23T07:56:00.375072Z",
     "shell.execute_reply.started": "2024-04-23T07:56:00.353425Z"
    },
    "tags": []
   },
   "outputs": [],
   "source": [
    "from apex.optimizers import FusedAdam, FusedSGD\n",
    "from torch import optim\n",
    "\n",
    "def get_optim(lr):\n",
    "    # Lower the learning rate on the VGG fully connected layers by 1/10th. It's a hack, but it helps\n",
    "    # stabilize the models.\n",
    "    fc_params = [p for n,p in detector.named_parameters() if (n.startswith('roi_fmap') or 'clean' in n) and p.requires_grad]\n",
    "    non_fc_params = [p for n,p in detector.named_parameters() if not (n.startswith('roi_fmap') or 'clean' in n) and p.requires_grad]\n",
    "    params = [{'params': fc_params, 'lr': lr / 10.0}, {'params': non_fc_params}]\n",
    "    # params = [p for n,p in detector.named_parameters() if p.requires_grad]\n",
    "\n",
    "    if conf.adam:\n",
    "        optimizer = FusedAdam(params, weight_decay=conf.adamwd, lr=lr, eps=1e-3)\n",
    "        # optimizer = optim.Adam(params, weight_decay=conf.adamwd, lr=lr, eps=1e-3)\n",
    "    else:\n",
    "        optimizer = FusedSGD(params, weight_decay=conf.l2, lr=lr, momentum=0.9)\n",
    "        # optimizer = optim.SGD(params, weight_decay=conf.l2, lr=lr, momentum=0.9)\n",
    "\n",
    "    # scheduler = ReduceLROnPlateau(optimizer, 'max', patience=3, factor=0.1,\n",
    "    #                               verbose=True, threshold=0.0001, threshold_mode='abs', cooldown=1)\n",
    "    return optimizer #, scheduler\n",
    "\n"
   ]
  },
  {
   "cell_type": "code",
   "execution_count": 16,
   "metadata": {
    "ExecuteTime": {
     "end_time": "2024-04-21T13:06:51.456139Z",
     "start_time": "2024-04-21T13:06:51.425333Z"
    },
    "execution": {
     "iopub.execute_input": "2024-04-23T07:56:00.376462Z",
     "iopub.status.busy": "2024-04-23T07:56:00.376309Z",
     "iopub.status.idle": "2024-04-23T07:56:00.618326Z",
     "shell.execute_reply": "2024-04-23T07:56:00.617733Z",
     "shell.execute_reply.started": "2024-04-23T07:56:00.376447Z"
    },
    "tags": []
   },
   "outputs": [],
   "source": [
    "# Initialize the confusion matrix\n",
    "from lib.my_util import adj_normalize\n",
    "initial_conf_matrix = np.load(conf.MODEL.CONF_MAT_FREQ_TRAIN)\n",
    "initial_conf_matrix[0, :] = 0.0\n",
    "initial_conf_matrix[:, 0] = 0.0\n",
    "initial_conf_matrix[0, 0] = 1.0\n",
    "initial_conf_matrix = initial_conf_matrix / (initial_conf_matrix.sum(-1)[:, None] + 1e-8)\n",
    "initial_conf_matrix = adj_normalize(initial_conf_matrix)\n",
    "np.save('/output/data/misc/conf_mat_updated.npy', initial_conf_matrix)"
   ]
  },
  {
   "cell_type": "code",
   "execution_count": 17,
   "metadata": {
    "ExecuteTime": {
     "end_time": "2024-04-21T13:06:54.054549Z",
     "start_time": "2024-04-21T13:06:51.484395Z"
    },
    "execution": {
     "iopub.execute_input": "2024-04-23T07:56:00.619117Z",
     "iopub.status.busy": "2024-04-23T07:56:00.618959Z",
     "iopub.status.idle": "2024-04-23T07:56:01.682499Z",
     "shell.execute_reply": "2024-04-23T07:56:01.681776Z",
     "shell.execute_reply.started": "2024-04-23T07:56:00.619103Z"
    },
    "tags": []
   },
   "outputs": [
    {
     "name": "stdout",
     "output_type": "stream",
     "text": [
      "Network has ggnn_rel_reason.ggnn.fc_mp_receive_ont_ent.model.0.linear.weight with size torch.Size([3840, 3840]), ckpt has torch.Size([3328, 3328])\n",
      "Network has ggnn_rel_reason.ggnn.fc_mp_receive_ont_ent.model.0.linear.bias with size torch.Size([3840]), ckpt has torch.Size([3328])\n",
      "Network has ggnn_rel_reason.ggnn.fc_mp_receive_ont_ent.model.2.linear.weight with size torch.Size([1024, 3840]), ckpt has torch.Size([1024, 3328])\n",
      "Network has ggnn_rel_reason.ggnn.fc_mp_receive_ont_pred.model.0.linear.weight with size torch.Size([2560, 2560]), ckpt has torch.Size([2048, 2048])\n",
      "Network has ggnn_rel_reason.ggnn.fc_mp_receive_ont_pred.model.0.linear.bias with size torch.Size([2560]), ckpt has torch.Size([2048])\n",
      "Network has ggnn_rel_reason.ggnn.fc_mp_receive_ont_pred.model.2.linear.weight with size torch.Size([1024, 2560]), ckpt has torch.Size([1024, 2048])\n",
      "We couldn't find ggnn_rel_reason.ggnn.fc_output_proj_ont_pred_clean.model.0.linear.weight,union_boxes.conv.6.num_batches_tracked,ggnn_rel_reason.ggnn.fc_output_proj_ont_pred_clean.model.0.linear.bias,ggnn_rel_reason.ggnn.fc_output_proj_ont_pred_clean.model.2.linear.bias,union_boxes.conv.2.num_batches_tracked,ggnn_rel_reason.ggnn.fc_output_proj_img_pred_clean.model.0.linear.bias,ggnn_rel_reason.ggnn.fc_output_proj_img_pred_clean.model.2.linear.bias,ggnn_rel_reason.ggnn.fc_output_proj_img_pred_clean.model.2.linear.weight,ggnn_rel_reason.ggnn.fc_output_proj_img_pred_clean.model.0.linear.weight,ggnn_rel_reason.ggnn.fc_output_proj_ont_pred_clean.model.2.linear.weight\n"
     ]
    }
   ],
   "source": [
    "ckpt = torch.load(conf.ckpt)\n",
    "optimistic_restore(detector, ckpt['state_dict'], skip_clean=False)\n",
    "detector.cuda();"
   ]
  },
  {
   "cell_type": "code",
   "execution_count": 18,
   "metadata": {
    "ExecuteTime": {
     "end_time": "2024-04-21T13:06:54.082346Z",
     "start_time": "2024-04-21T13:06:54.056450Z"
    },
    "execution": {
     "iopub.execute_input": "2024-04-23T07:56:01.683498Z",
     "iopub.status.busy": "2024-04-23T07:56:01.683303Z",
     "iopub.status.idle": "2024-04-23T07:56:01.708015Z",
     "shell.execute_reply": "2024-04-23T07:56:01.707499Z",
     "shell.execute_reply.started": "2024-04-23T07:56:01.683482Z"
    },
    "tags": []
   },
   "outputs": [],
   "source": [
    "from time import time as time_time\n",
    "def train_epoch(epoch_num):\n",
    "    detector.train()\n",
    "    tr = []\n",
    "    start = time_time()\n",
    "    prog_bar = tqdm(enumerate(train_loader), total=int(len(train)/train_loader.batch_size))\n",
    "    for b, batch in prog_bar:\n",
    "        # print(train_batch(batch, verbose=b % (conf.print_interval*10) == 0))\n",
    "        result, loss_dict = train_batch(batch, verbose=b % (conf.print_interval*10) == 0)\n",
    "        tr.append(loss_dict)\n",
    "        '''\n",
    "        if b % 100 == 0:\n",
    "            print(loss_pd)\n",
    "            gt = result.rel_labels[:,3].data.cpu().numpy()\n",
    "            out = result.rel_dists.data.cpu().numpy()\n",
    "            ind = np.where(gt)[0]\n",
    "            print(gt[ind])\n",
    "            print(np.argmax(out[ind], 1))\n",
    "            print(np.argmax(out[ind, 1:], 1) + 1)\n",
    "        '''\n",
    "\n",
    "        if b % conf.print_interval == 0 and b >= conf.print_interval:\n",
    "#             mn = pd.DataFrame([pd.Series(dicty) for dicty in tr[-conf.print_interval:]]).mean(1)\n",
    "            mn = pd.DataFrame(tr[-conf.print_interval:]).mean(axis=0)\n",
    "            time_per_batch = (time_time() - start) / conf.print_interval\n",
    "            write(\"\\ne{:2d}b{:5d}/{:5d} {:.3f}s/batch, {:.1f}m/epoch\".format(\n",
    "                epoch_num, b, len(train_loader), time_per_batch, len(train_loader) * time_per_batch / 60))\n",
    "            write(mn.to_string())\n",
    "            write('-----------')\n",
    "            start = time_time()\n",
    "    return pd.DataFrame(tr)\n"
   ]
  },
  {
   "cell_type": "code",
   "execution_count": 19,
   "metadata": {
    "ExecuteTime": {
     "end_time": "2024-04-21T13:06:54.105615Z",
     "start_time": "2024-04-21T13:06:54.083729Z"
    },
    "execution": {
     "iopub.execute_input": "2024-04-23T07:56:01.708953Z",
     "iopub.status.busy": "2024-04-23T07:56:01.708793Z",
     "iopub.status.idle": "2024-04-23T07:56:01.732318Z",
     "shell.execute_reply": "2024-04-23T07:56:01.731743Z",
     "shell.execute_reply.started": "2024-04-23T07:56:01.708939Z"
    },
    "tags": []
   },
   "outputs": [],
   "source": [
    "from torch.cuda.amp import autocast\n",
    "def train_batch(b, verbose=False):\n",
    "    \"\"\"\n",
    "    :param b: contains:\n",
    "          :param imgs: the image, [batch_size, 3, IM_SIZE, IM_SIZE]\n",
    "          :param all_anchors: [num_anchors, 4] the boxes of all anchors that we'll be using\n",
    "          :param all_anchor_inds: [num_anchors, 2] array of the indices into the concatenated\n",
    "                                  RPN feature vector that give us all_anchors,\n",
    "                                  each one (img_ind, fpn_idx)\n",
    "          :param im_sizes: a [batch_size, 4] numpy array of (h, w, scale, num_good_anchors) for each image.\n",
    "\n",
    "          :param num_anchors_per_img: int, number of anchors in total over the feature pyramid per img\n",
    "\n",
    "          Training parameters:\n",
    "          :param train_anchor_inds: a [num_train, 5] array of indices for the anchors that will\n",
    "                                    be used to compute the training loss (img_ind, fpn_idx)\n",
    "          :param gt_boxes: [num_gt, 4] GT boxes over the batch.\n",
    "          :param gt_classes: [num_gt, 2] gt boxes where each one is (img_id, class)\n",
    "    :return:\n",
    "    \"\"\"\n",
    "    optimizer.zero_grad()\n",
    "    with autocast():\n",
    "        result = detector[b]\n",
    "        loss_class = detector.obj_loss(result)\n",
    "        loss_rel = detector.rel_loss(result)\n",
    "        loss_scpred = detector.scpred_loss(result)\n",
    "\n",
    "        loss = loss_class + loss_rel + loss_scpred\n",
    "    with amp.scale_loss(loss, optimizer) as scaled_loss:\n",
    "        scaled_loss.backward()\n",
    "    clip_grad_norm(\n",
    "        [(n, p) for n, p in detector.named_parameters() if p.grad is not None],\n",
    "        max_norm=conf.clip, verbose=verbose, clip=True)\n",
    "    optimizer.step()\n",
    "    return result, {\n",
    "          'loss_class': float(loss_class),\n",
    "          'loss_rel': float(loss_rel),\n",
    "          'loss_scpred': float(loss_scpred),\n",
    "          'loss_total': float(loss),\n",
    "    }\n"
   ]
  },
  {
   "cell_type": "code",
   "execution_count": 20,
   "metadata": {
    "ExecuteTime": {
     "end_time": "2024-04-21T13:06:54.132611Z",
     "start_time": "2024-04-21T13:06:54.106622Z"
    },
    "execution": {
     "iopub.execute_input": "2024-04-23T07:56:01.733108Z",
     "iopub.status.busy": "2024-04-23T07:56:01.732946Z",
     "iopub.status.idle": "2024-04-23T07:56:01.756661Z",
     "shell.execute_reply": "2024-04-23T07:56:01.756154Z",
     "shell.execute_reply.started": "2024-04-23T07:56:01.733086Z"
    },
    "tags": []
   },
   "outputs": [],
   "source": [
    "from torch import no_grad as torch_no_grad\n",
    "from tqdm import tqdm\n",
    "\n",
    "def val_epoch():\n",
    "    detector.eval()\n",
    "    evaluator_list = [] # for calculating recall of each relationship except no relationship\n",
    "    evaluator_multiple_preds_list = []\n",
    "    for index, name in enumerate(ind_to_predicates):\n",
    "        if index == 0:\n",
    "            continue\n",
    "        evaluator_list.append((index, name, BasicSceneGraphEvaluator.all_modes()))\n",
    "        evaluator_multiple_preds_list.append((index, name, BasicSceneGraphEvaluator.all_modes(multiple_preds=True)))\n",
    "    evaluator = BasicSceneGraphEvaluator.all_modes() # for calculating recall\n",
    "    evaluator_multiple_preds = BasicSceneGraphEvaluator.all_modes(multiple_preds=True)\n",
    "\n",
    "    prog_bar = tqdm(enumerate(val_loader), total=int(len(val)/val_loader.batch_size))\n",
    "\n",
    "    with torch_no_grad():\n",
    "        for val_b, batch in prog_bar:\n",
    "            val_batch(conf.num_gpus * val_b, batch, evaluator, evaluator_multiple_preds, evaluator_list, evaluator_multiple_preds_list)\n",
    "\n",
    "    recall = evaluator[conf.mode].print_stats()\n",
    "    recall_mp = evaluator_multiple_preds[conf.mode].print_stats()\n",
    "\n",
    "    mean_recall = calculate_mR_from_evaluator_list(evaluator_list, conf.mode)\n",
    "    mean_recall_mp = calculate_mR_from_evaluator_list(evaluator_multiple_preds_list, conf.mode, multiple_preds=True)\n",
    "\n",
    "    detector.train()\n",
    "    return recall, recall_mp, mean_recall, mean_recall_mp\n",
    "\n",
    "def val_batch(batch_num, b, evaluator, evaluator_multiple_preds, evaluator_list, evaluator_multiple_preds_list):\n",
    "    with autocast():\n",
    "        det_res = detector[b]\n",
    "    if conf.num_gpus == 1:\n",
    "        det_res = [det_res]\n",
    "\n",
    "    for i, (boxes_i, objs_i, obj_scores_i, rels_i, pred_scores_i) in enumerate(det_res):\n",
    "        gt_entry = {\n",
    "            'gt_classes': val.gt_classes[batch_num + i].copy(),\n",
    "            'gt_relations': val.relationships[batch_num + i].copy(),\n",
    "            'gt_boxes': val.gt_boxes[batch_num + i].copy(),\n",
    "        }\n",
    "        assert np.all(objs_i[rels_i[:, 0]] > 0) and np.all(objs_i[rels_i[:, 1]] > 0)\n",
    "\n",
    "        pred_entry = {\n",
    "            'pred_boxes': boxes_i * BOX_SCALE/IM_SCALE,\n",
    "            'pred_classes': objs_i,\n",
    "            'pred_rel_inds': rels_i,\n",
    "            'obj_scores': obj_scores_i,\n",
    "            'rel_scores': pred_scores_i,  # hack for now.\n",
    "        }\n",
    "\n",
    "        eval_entry(conf.mode, gt_entry, pred_entry, evaluator, evaluator_multiple_preds,\n",
    "                   evaluator_list, evaluator_multiple_preds_list)\n",
    "\n"
   ]
  },
  {
   "cell_type": "code",
   "execution_count": 21,
   "metadata": {
    "ExecuteTime": {
     "end_time": "2024-04-21T13:06:54.161441Z",
     "start_time": "2024-04-21T13:06:54.134032Z"
    },
    "execution": {
     "iopub.execute_input": "2024-04-23T07:56:01.757496Z",
     "iopub.status.busy": "2024-04-23T07:56:01.757342Z",
     "iopub.status.idle": "2024-04-23T07:56:01.779953Z",
     "shell.execute_reply": "2024-04-23T07:56:01.779451Z",
     "shell.execute_reply.started": "2024-04-23T07:56:01.757482Z"
    },
    "tags": []
   },
   "outputs": [],
   "source": [
    "def train_evaluate():\n",
    "    detector.eval()\n",
    "    evaluator_list = [] # for calculating recall of each relationship except no relationship\n",
    "    evaluator_multiple_preds_list = []\n",
    "    for index, name in enumerate(ind_to_predicates):\n",
    "        if index == 0:\n",
    "            continue\n",
    "        evaluator_list.append((index, name, BasicSceneGraphEvaluator.all_modes()))\n",
    "        evaluator_multiple_preds_list.append((index, name, BasicSceneGraphEvaluator.all_modes(multiple_preds=True)))\n",
    "    evaluator = BasicSceneGraphEvaluator.all_modes() # for calculating recall\n",
    "    evaluator_multiple_preds = BasicSceneGraphEvaluator.all_modes(multiple_preds=True)\n",
    "\n",
    "    prog_bar = tqdm(enumerate(train_full_loader), total=int(len(train_full)/train_full_loader.batch_size))\n",
    "\n",
    "    with torch_no_grad():\n",
    "        for train_full_b, batch in prog_bar:\n",
    "            train_full_batch(conf.num_gpus * train_full_b, batch, evaluator, evaluator_multiple_preds, evaluator_list, evaluator_multiple_preds_list)\n",
    "            if train_full_b == 10000: # For efficiency, only evaluate 10000 batches\n",
    "                break\n",
    "    confusion_matrix = evaluator[conf.mode].result_dict['predicate_confusion_matrix']\n",
    "    detector.train()\n",
    "    return confusion_matrix\n",
    "\n",
    "def train_full_batch(batch_num, b, evaluator, evaluator_multiple_preds, evaluator_list, evaluator_multiple_preds_list):\n",
    "    with autocast():\n",
    "        det_res = detector[b]\n",
    "    if conf.num_gpus == 1:\n",
    "        det_res = [det_res]\n",
    "\n",
    "    for i, (boxes_i, objs_i, obj_scores_i, rels_i, pred_scores_i) in enumerate(det_res):\n",
    "        gt_entry = {\n",
    "            'gt_classes': train_full.gt_classes[batch_num + i].copy(),\n",
    "            'gt_relations': train_full.relationships[batch_num + i].copy(),\n",
    "            'gt_boxes': train_full.gt_boxes[batch_num + i].copy(),\n",
    "        }\n",
    "        assert np.all(objs_i[rels_i[:, 0]] > 0) and np.all(objs_i[rels_i[:, 1]] > 0)\n",
    "\n",
    "        pred_entry = {\n",
    "            'pred_boxes': boxes_i * BOX_SCALE/IM_SCALE,\n",
    "            'pred_classes': objs_i,\n",
    "            'pred_rel_inds': rels_i,\n",
    "            'obj_scores': obj_scores_i,\n",
    "            'rel_scores': pred_scores_i,  # hack for now.\n",
    "        }\n",
    "\n",
    "        eval_entry(conf.mode, gt_entry, pred_entry, evaluator, evaluator_multiple_preds,\n",
    "                   evaluator_list, evaluator_multiple_preds_list)"
   ]
  },
  {
   "cell_type": "code",
   "execution_count": 22,
   "metadata": {
    "ExecuteTime": {
     "start_time": "2024-04-21T13:07:32.303615Z"
    },
    "execution": {
     "iopub.execute_input": "2024-04-23T07:56:01.782343Z",
     "iopub.status.busy": "2024-04-23T07:56:01.782184Z",
     "iopub.status.idle": "2024-04-23T08:19:45.855637Z",
     "shell.execute_reply": "2024-04-23T08:19:45.854860Z",
     "shell.execute_reply.started": "2024-04-23T07:56:01.782330Z"
    },
    "is_executing": true,
    "tags": []
   },
   "outputs": [
    {
     "name": "stdout",
     "output_type": "stream",
     "text": [
      "Selected optimization level O0:  Pure FP32 training.\n",
      "\n",
      "Defaults for this optimization level are:\n",
      "enabled                : True\n",
      "opt_level              : O0\n",
      "cast_model_type        : torch.float32\n",
      "patch_torch_functions  : False\n",
      "keep_batchnorm_fp32    : None\n",
      "master_weights         : False\n",
      "loss_scale             : 1.0\n",
      "Processing user overrides (additional kwargs that are not None)...\n",
      "After processing overrides, optimization options are:\n",
      "enabled                : True\n",
      "opt_level              : O0\n",
      "cast_model_type        : torch.float32\n",
      "patch_torch_functions  : False\n",
      "keep_batchnorm_fp32    : None\n",
      "master_weights         : False\n",
      "loss_scale             : 1.0\n",
      "epoch = 0\n"
     ]
    },
    {
     "name": "stderr",
     "output_type": "stream",
     "text": [
      "/output/hiker-sgg/lib/python3.8/site-packages/apex/__init__.py:68: DeprecatedFeatureWarning: apex.amp is deprecated and will be removed by the end of February 2023. Use [PyTorch AMP](https://pytorch.org/docs/stable/amp.html)\n",
      "  warnings.warn(msg, DeprecatedFeatureWarning)\n",
      " 45%|████▍     | 2501/5610 [08:21<15:28,  3.35it/s]"
     ]
    },
    {
     "name": "stdout",
     "output_type": "stream",
     "text": [
      "\n",
      "e 0b 2500/ 5610 0.201s/batch, 18.8m/epoch\n",
      "loss_class     0.000000\n",
      "loss_rel       0.081229\n",
      "loss_scpred    0.069682\n",
      "loss_total     0.150911\n",
      "-----------\n"
     ]
    },
    {
     "name": "stderr",
     "output_type": "stream",
     "text": [
      " 89%|████████▉ | 5001/5610 [20:15<03:02,  3.34it/s]"
     ]
    },
    {
     "name": "stdout",
     "output_type": "stream",
     "text": [
      "\n",
      "e 0b 5000/ 5610 0.285s/batch, 26.7m/epoch\n",
      "loss_class     0.000000\n",
      "loss_rel       0.068241\n",
      "loss_scpred    0.060729\n",
      "loss_total     0.128970\n",
      "-----------\n"
     ]
    },
    {
     "name": "stderr",
     "output_type": "stream",
     "text": [
      "100%|██████████| 5610/5610 [23:07<00:00,  4.04it/s]\n"
     ]
    },
    {
     "name": "stdout",
     "output_type": "stream",
     "text": [
      "overall 0: (0.139)\n",
      "loss_class     0.000000\n",
      "loss_rel       0.074235\n",
      "loss_scpred    0.064980\n",
      "loss_total     0.139215\n",
      "dtype: float64\n",
      "/output/HiKER-SGG/../data/checkpoints/kern_predcls/hikersgg_predcls_train/vgrel-0.tar\n"
     ]
    },
    {
     "name": "stderr",
     "output_type": "stream",
     "text": [
      "  9%|▉         | 472/5000 [00:31<04:57, 15.21it/s]"
     ]
    },
    {
     "ename": "KeyboardInterrupt",
     "evalue": "",
     "output_type": "error",
     "traceback": [
      "\u001b[0;31m---------------------------------------------------------------------------\u001b[0m",
      "\u001b[0;31mKeyboardInterrupt\u001b[0m                         Traceback (most recent call last)",
      "Cell \u001b[0;32mIn[22], line 49\u001b[0m\n\u001b[1;32m     46\u001b[0m     \u001b[38;5;66;03m# noinspection PyPackageRequirements\u001b[39;00m\n\u001b[1;32m     47\u001b[0m     \u001b[38;5;28mprint\u001b[39m(os\u001b[38;5;241m.\u001b[39mpath\u001b[38;5;241m.\u001b[39mjoin(conf\u001b[38;5;241m.\u001b[39msave_dir, \u001b[38;5;124m'\u001b[39m\u001b[38;5;132;01m{}\u001b[39;00m\u001b[38;5;124m-\u001b[39m\u001b[38;5;132;01m{}\u001b[39;00m\u001b[38;5;124m.tar\u001b[39m\u001b[38;5;124m'\u001b[39m\u001b[38;5;241m.\u001b[39mformat(\u001b[38;5;124m'\u001b[39m\u001b[38;5;124mvgrel\u001b[39m\u001b[38;5;124m'\u001b[39m, epoch)))\n\u001b[0;32m---> 49\u001b[0m recall, recall_mp, mean_recall, mean_recall_mp \u001b[38;5;241m=\u001b[39m \u001b[43mval_epoch\u001b[49m\u001b[43m(\u001b[49m\u001b[43m)\u001b[49m\n",
      "Cell \u001b[0;32mIn[20], line 20\u001b[0m, in \u001b[0;36mval_epoch\u001b[0;34m()\u001b[0m\n\u001b[1;32m     18\u001b[0m \u001b[38;5;28;01mwith\u001b[39;00m torch_no_grad():\n\u001b[1;32m     19\u001b[0m     \u001b[38;5;28;01mfor\u001b[39;00m val_b, batch \u001b[38;5;129;01min\u001b[39;00m prog_bar:\n\u001b[0;32m---> 20\u001b[0m         \u001b[43mval_batch\u001b[49m\u001b[43m(\u001b[49m\u001b[43mconf\u001b[49m\u001b[38;5;241;43m.\u001b[39;49m\u001b[43mnum_gpus\u001b[49m\u001b[43m \u001b[49m\u001b[38;5;241;43m*\u001b[39;49m\u001b[43m \u001b[49m\u001b[43mval_b\u001b[49m\u001b[43m,\u001b[49m\u001b[43m \u001b[49m\u001b[43mbatch\u001b[49m\u001b[43m,\u001b[49m\u001b[43m \u001b[49m\u001b[43mevaluator\u001b[49m\u001b[43m,\u001b[49m\u001b[43m \u001b[49m\u001b[43mevaluator_multiple_preds\u001b[49m\u001b[43m,\u001b[49m\u001b[43m \u001b[49m\u001b[43mevaluator_list\u001b[49m\u001b[43m,\u001b[49m\u001b[43m \u001b[49m\u001b[43mevaluator_multiple_preds_list\u001b[49m\u001b[43m)\u001b[49m\n\u001b[1;32m     22\u001b[0m recall \u001b[38;5;241m=\u001b[39m evaluator[conf\u001b[38;5;241m.\u001b[39mmode]\u001b[38;5;241m.\u001b[39mprint_stats()\n\u001b[1;32m     23\u001b[0m recall_mp \u001b[38;5;241m=\u001b[39m evaluator_multiple_preds[conf\u001b[38;5;241m.\u001b[39mmode]\u001b[38;5;241m.\u001b[39mprint_stats()\n",
      "Cell \u001b[0;32mIn[20], line 53\u001b[0m, in \u001b[0;36mval_batch\u001b[0;34m(batch_num, b, evaluator, evaluator_multiple_preds, evaluator_list, evaluator_multiple_preds_list)\u001b[0m\n\u001b[1;32m     43\u001b[0m \u001b[38;5;28;01massert\u001b[39;00m np\u001b[38;5;241m.\u001b[39mall(objs_i[rels_i[:, \u001b[38;5;241m0\u001b[39m]] \u001b[38;5;241m>\u001b[39m \u001b[38;5;241m0\u001b[39m) \u001b[38;5;129;01mand\u001b[39;00m np\u001b[38;5;241m.\u001b[39mall(objs_i[rels_i[:, \u001b[38;5;241m1\u001b[39m]] \u001b[38;5;241m>\u001b[39m \u001b[38;5;241m0\u001b[39m)\n\u001b[1;32m     45\u001b[0m pred_entry \u001b[38;5;241m=\u001b[39m {\n\u001b[1;32m     46\u001b[0m     \u001b[38;5;124m'\u001b[39m\u001b[38;5;124mpred_boxes\u001b[39m\u001b[38;5;124m'\u001b[39m: boxes_i \u001b[38;5;241m*\u001b[39m BOX_SCALE\u001b[38;5;241m/\u001b[39mIM_SCALE,\n\u001b[1;32m     47\u001b[0m     \u001b[38;5;124m'\u001b[39m\u001b[38;5;124mpred_classes\u001b[39m\u001b[38;5;124m'\u001b[39m: objs_i,\n\u001b[0;32m   (...)\u001b[0m\n\u001b[1;32m     50\u001b[0m     \u001b[38;5;124m'\u001b[39m\u001b[38;5;124mrel_scores\u001b[39m\u001b[38;5;124m'\u001b[39m: pred_scores_i,  \u001b[38;5;66;03m# hack for now.\u001b[39;00m\n\u001b[1;32m     51\u001b[0m }\n\u001b[0;32m---> 53\u001b[0m \u001b[43meval_entry\u001b[49m\u001b[43m(\u001b[49m\u001b[43mconf\u001b[49m\u001b[38;5;241;43m.\u001b[39;49m\u001b[43mmode\u001b[49m\u001b[43m,\u001b[49m\u001b[43m \u001b[49m\u001b[43mgt_entry\u001b[49m\u001b[43m,\u001b[49m\u001b[43m \u001b[49m\u001b[43mpred_entry\u001b[49m\u001b[43m,\u001b[49m\u001b[43m \u001b[49m\u001b[43mevaluator\u001b[49m\u001b[43m,\u001b[49m\u001b[43m \u001b[49m\u001b[43mevaluator_multiple_preds\u001b[49m\u001b[43m,\u001b[49m\n\u001b[1;32m     54\u001b[0m \u001b[43m           \u001b[49m\u001b[43mevaluator_list\u001b[49m\u001b[43m,\u001b[49m\u001b[43m \u001b[49m\u001b[43mevaluator_multiple_preds_list\u001b[49m\u001b[43m)\u001b[49m\n",
      "File \u001b[0;32m/output/HiKER-SGG/lib/evaluation/sg_eval.py:370\u001b[0m, in \u001b[0;36meval_entry\u001b[0;34m(mode, gt_entry, pred_entry, evaluator, evaluator_multiple_preds, evaluator_list, evaluator_multiple_preds_list)\u001b[0m\n\u001b[1;32m    364\u001b[0m \u001b[38;5;28;01mdef\u001b[39;00m \u001b[38;5;21meval_entry\u001b[39m(mode, gt_entry, pred_entry, evaluator, evaluator_multiple_preds, evaluator_list, evaluator_multiple_preds_list):\n\u001b[1;32m    365\u001b[0m     evaluator[mode]\u001b[38;5;241m.\u001b[39mevaluate_scene_graph_entry(\n\u001b[1;32m    366\u001b[0m         gt_entry,\n\u001b[1;32m    367\u001b[0m         pred_entry,\n\u001b[1;32m    368\u001b[0m     )\n\u001b[0;32m--> 370\u001b[0m     \u001b[43mevaluator_multiple_preds\u001b[49m\u001b[43m[\u001b[49m\u001b[43mmode\u001b[49m\u001b[43m]\u001b[49m\u001b[38;5;241;43m.\u001b[39;49m\u001b[43mevaluate_scene_graph_entry\u001b[49m\u001b[43m(\u001b[49m\n\u001b[1;32m    371\u001b[0m \u001b[43m        \u001b[49m\u001b[43mgt_entry\u001b[49m\u001b[43m,\u001b[49m\n\u001b[1;32m    372\u001b[0m \u001b[43m        \u001b[49m\u001b[43mpred_entry\u001b[49m\u001b[43m,\u001b[49m\n\u001b[1;32m    373\u001b[0m \u001b[43m    \u001b[49m\u001b[43m)\u001b[49m\n\u001b[1;32m    375\u001b[0m     \u001b[38;5;28;01mfor\u001b[39;00m (pred_id, _, evaluator_rel), (_, _, evaluator_rel_mp) \u001b[38;5;129;01min\u001b[39;00m \u001b[38;5;28mzip\u001b[39m(evaluator_list, evaluator_multiple_preds_list):\n\u001b[1;32m    376\u001b[0m         gt_entry_rel \u001b[38;5;241m=\u001b[39m gt_entry\u001b[38;5;241m.\u001b[39mcopy()\n",
      "File \u001b[0;32m/output/HiKER-SGG/lib/evaluation/sg_eval.py:43\u001b[0m, in \u001b[0;36mBasicSceneGraphEvaluator.evaluate_scene_graph_entry\u001b[0;34m(self, gt_entry, pred_scores, viz_dict, iou_thresh)\u001b[0m\n\u001b[1;32m     42\u001b[0m \u001b[38;5;28;01mdef\u001b[39;00m \u001b[38;5;21mevaluate_scene_graph_entry\u001b[39m(\u001b[38;5;28mself\u001b[39m, gt_entry, pred_scores, viz_dict\u001b[38;5;241m=\u001b[39m\u001b[38;5;28;01mNone\u001b[39;00m, iou_thresh\u001b[38;5;241m=\u001b[39m\u001b[38;5;241m0.5\u001b[39m):\n\u001b[0;32m---> 43\u001b[0m     res \u001b[38;5;241m=\u001b[39m \u001b[43mevaluate_from_dict\u001b[49m\u001b[43m(\u001b[49m\u001b[43mgt_entry\u001b[49m\u001b[43m,\u001b[49m\u001b[43m \u001b[49m\u001b[43mpred_scores\u001b[49m\u001b[43m,\u001b[49m\u001b[43m \u001b[49m\u001b[38;5;28;43mself\u001b[39;49m\u001b[38;5;241;43m.\u001b[39;49m\u001b[43mmode\u001b[49m\u001b[43m,\u001b[49m\u001b[43m \u001b[49m\u001b[38;5;28;43mself\u001b[39;49m\u001b[38;5;241;43m.\u001b[39;49m\u001b[43mresult_dict\u001b[49m\u001b[43m,\u001b[49m\n\u001b[1;32m     44\u001b[0m \u001b[43m                              \u001b[49m\u001b[43mviz_dict\u001b[49m\u001b[38;5;241;43m=\u001b[39;49m\u001b[43mviz_dict\u001b[49m\u001b[43m,\u001b[49m\u001b[43m \u001b[49m\u001b[43miou_thresh\u001b[49m\u001b[38;5;241;43m=\u001b[39;49m\u001b[43miou_thresh\u001b[49m\u001b[43m,\u001b[49m\u001b[43m \u001b[49m\u001b[43mmultiple_preds\u001b[49m\u001b[38;5;241;43m=\u001b[39;49m\u001b[38;5;28;43mself\u001b[39;49m\u001b[38;5;241;43m.\u001b[39;49m\u001b[43mmultiple_preds\u001b[49m\u001b[43m)\u001b[49m\n\u001b[1;32m     45\u001b[0m     \u001b[38;5;66;03m# self.print_stats()\u001b[39;00m\n\u001b[1;32m     46\u001b[0m     \u001b[38;5;28;01mreturn\u001b[39;00m res\n",
      "File \u001b[0;32m/output/HiKER-SGG/lib/evaluation/sg_eval.py:136\u001b[0m, in \u001b[0;36mevaluate_from_dict\u001b[0;34m(gt_entry, pred_entry, mode, result_dict, multiple_preds, viz_dict, **kwargs)\u001b[0m\n\u001b[1;32m    133\u001b[0m     pred_rels \u001b[38;5;241m=\u001b[39m np_column_stack((pred_rel_inds, \u001b[38;5;241m1\u001b[39m\u001b[38;5;241m+\u001b[39mrel_scores[:,\u001b[38;5;241m1\u001b[39m:]\u001b[38;5;241m.\u001b[39margmax(\u001b[38;5;241m1\u001b[39m)))\n\u001b[1;32m    134\u001b[0m     predicate_scores \u001b[38;5;241m=\u001b[39m rel_scores[:,\u001b[38;5;241m1\u001b[39m:]\u001b[38;5;241m.\u001b[39mmax(\u001b[38;5;241m1\u001b[39m)\n\u001b[0;32m--> 136\u001b[0m pred_to_gt, pred_5ples, rel_scores2 \u001b[38;5;241m=\u001b[39m \u001b[43mevaluate_recall\u001b[49m\u001b[43m(\u001b[49m\n\u001b[1;32m    137\u001b[0m \u001b[43m            \u001b[49m\u001b[43mgt_rels\u001b[49m\u001b[43m,\u001b[49m\u001b[43m \u001b[49m\u001b[43mgt_boxes\u001b[49m\u001b[43m,\u001b[49m\u001b[43m \u001b[49m\u001b[43mgt_classes\u001b[49m\u001b[43m,\u001b[49m\n\u001b[1;32m    138\u001b[0m \u001b[43m            \u001b[49m\u001b[43mpred_rels\u001b[49m\u001b[43m,\u001b[49m\u001b[43m \u001b[49m\u001b[43mpred_boxes\u001b[49m\u001b[43m,\u001b[49m\u001b[43m \u001b[49m\u001b[43mpred_classes\u001b[49m\u001b[43m,\u001b[49m\n\u001b[1;32m    139\u001b[0m \u001b[43m            \u001b[49m\u001b[43mpredicate_scores\u001b[49m\u001b[43m,\u001b[49m\u001b[43m \u001b[49m\u001b[43mobj_scores\u001b[49m\u001b[43m,\u001b[49m\u001b[43m \u001b[49m\u001b[43mphrdet\u001b[49m\u001b[38;5;241;43m=\u001b[39;49m\u001b[43m \u001b[49m\u001b[43mmode\u001b[49m\u001b[38;5;241;43m==\u001b[39;49m\u001b[38;5;124;43m'\u001b[39;49m\u001b[38;5;124;43mphrdet\u001b[39;49m\u001b[38;5;124;43m'\u001b[39;49m\u001b[43m,\u001b[49m\n\u001b[1;32m    140\u001b[0m \u001b[43m            \u001b[49m\u001b[38;5;241;43m*\u001b[39;49m\u001b[38;5;241;43m*\u001b[39;49m\u001b[43mkwargs\u001b[49m\u001b[43m)\u001b[49m\n\u001b[1;32m    142\u001b[0m confusion_matrix(gt_rels, gt_boxes, gt_classes, pred_rel_inds, rel_scores, result_dict)\n\u001b[1;32m    144\u001b[0m \u001b[38;5;66;03m# print(\"pred_to_gt:\", pred_to_gt[:20])\u001b[39;00m\n\u001b[1;32m    145\u001b[0m \u001b[38;5;66;03m# print(reduce(np_union1d, pred_to_gt[:20]))\u001b[39;00m\n",
      "File \u001b[0;32m/output/HiKER-SGG/lib/evaluation/sg_eval.py:234\u001b[0m, in \u001b[0;36mevaluate_recall\u001b[0;34m(gt_rels, gt_boxes, gt_classes, pred_rels, pred_boxes, pred_classes, rel_scores, cls_scores, iou_thresh, phrdet)\u001b[0m\n\u001b[1;32m    222\u001b[0m pred_to_gt \u001b[38;5;241m=\u001b[39m _compute_pred_matches(\n\u001b[1;32m    223\u001b[0m     gt_triplets,\n\u001b[1;32m    224\u001b[0m     pred_triplets,\n\u001b[0;32m   (...)\u001b[0m\n\u001b[1;32m    228\u001b[0m     phrdet\u001b[38;5;241m=\u001b[39mphrdet,\n\u001b[1;32m    229\u001b[0m )\n\u001b[1;32m    231\u001b[0m \u001b[38;5;66;03m# Contains some extra stuff for visualization. Not needed.\u001b[39;00m\n\u001b[1;32m    232\u001b[0m pred_5ples \u001b[38;5;241m=\u001b[39m np_column_stack((\n\u001b[1;32m    233\u001b[0m     pred_rels[:,:\u001b[38;5;241m2\u001b[39m],\n\u001b[0;32m--> 234\u001b[0m     \u001b[43mpred_triplets\u001b[49m\u001b[43m[\u001b[49m\u001b[43m:\u001b[49m\u001b[43m,\u001b[49m\u001b[43m \u001b[49m\u001b[43m[\u001b[49m\u001b[38;5;241;43m0\u001b[39;49m\u001b[43m,\u001b[49m\u001b[43m \u001b[49m\u001b[38;5;241;43m2\u001b[39;49m\u001b[43m,\u001b[49m\u001b[43m \u001b[49m\u001b[38;5;241;43m1\u001b[39;49m\u001b[43m]\u001b[49m\u001b[43m]\u001b[49m,\n\u001b[1;32m    235\u001b[0m ))\n\u001b[1;32m    237\u001b[0m \u001b[38;5;28;01mreturn\u001b[39;00m pred_to_gt, pred_5ples, relation_scores\n",
      "\u001b[0;31mKeyboardInterrupt\u001b[0m: "
     ]
    }
   ],
   "source": [
    "from warnings import warn\n",
    "# torch.backends.cudnn.benchmark = True\n",
    "\n",
    "alpha = 0.9\n",
    "optimizer = get_optim(conf.lr * conf.num_gpus * conf.batch_size)\n",
    "detector, optimizer = amp.initialize(detector, optimizer, opt_level=\"O0\")\n",
    "\n",
    "start_epoch = 0\n",
    "end_epoch = 20\n",
    "\n",
    "conf_matrix_list = []\n",
    "for epoch in range(start_epoch, end_epoch):\n",
    "    if (epoch + 1) % 3 == 0:\n",
    "        print('Evaluating new confusion matrix...')\n",
    "        conf_matrix = train_evaluate()\n",
    "        conf_matrix[0, :] = 0.0\n",
    "        conf_matrix[:, 0] = 0.0\n",
    "        conf_matrix[0, 0] = 1.0\n",
    "        conf_matrix = conf_matrix / (conf_matrix.sum(-1)[:, None] + 1e-8)\n",
    "        conf_matrix = adj_normalize(conf_matrix)\n",
    "        conf_matrix_list.append(conf_matrix)\n",
    "\n",
    "        conf_matrix_old = np.load('/output/data/misc/conf_mat_updated.npy')\n",
    "        conf_matrix_new = conf_matrix_old * alpha + conf_matrix * (1 - alpha)\n",
    "        np.save('/output/data/misc/conf_mat_updated.npy', conf_matrix_new)\n",
    "        np.save('/output/data/misc/conf/conf_mat_updated_{}.npy'.format(epoch), conf_matrix_new)\n",
    "\n",
    "    write(f'epoch = {epoch}')\n",
    "    if epoch != 0 and epoch % 10 == 0:\n",
    "        for param_group in optimizer.param_groups:\n",
    "            param_group['lr'] /= 10\n",
    "\n",
    "    rez = train_epoch(epoch)\n",
    "    losses_mean_epoch = rez.mean(axis=0)\n",
    "    losses_mean_epoch_class = losses_mean_epoch['loss_class']\n",
    "    losses_mean_epoch_rel = losses_mean_epoch['loss_rel']\n",
    "    losses_mean_epoch_total = losses_mean_epoch['loss_total']\n",
    "    write(\"overall{:2d}: ({:.3f})\\n{}\".format(epoch, losses_mean_epoch_total, losses_mean_epoch))\n",
    "\n",
    "    if conf.save_dir is not None:\n",
    "        torch.save({\n",
    "            'epoch': epoch,\n",
    "            'state_dict': detector.state_dict(), #{k:v for k,v in detector.state_dict().items() if not k.startswith('detector.')},\n",
    "            # 'optimizer': optimizer.state_dict(),\n",
    "        }, os.path.join(conf.save_dir, '{}-{}.tar'.format('vgrel', epoch)))\n",
    "        # noinspection PyPackageRequirements\n",
    "        print(os.path.join(conf.save_dir, '{}-{}.tar'.format('vgrel', epoch)))\n",
    "\n",
    "    recall, recall_mp, mean_recall, mean_recall_mp = val_epoch()"
   ]
  }
 ],
 "metadata": {
  "kernelspec": {
   "display_name": "hiker-sgg",
   "language": "python",
   "name": "hiker-sgg"
  },
  "language_info": {
   "codemirror_mode": {
    "name": "ipython",
    "version": 3
   },
   "file_extension": ".py",
   "mimetype": "text/x-python",
   "name": "python",
   "nbconvert_exporter": "python",
   "pygments_lexer": "ipython3",
   "version": "3.8.0"
  },
  "toc-autonumbering": false
 },
 "nbformat": 4,
 "nbformat_minor": 4
}
