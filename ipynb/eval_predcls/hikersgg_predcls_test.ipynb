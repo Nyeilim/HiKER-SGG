{
 "cells": [
  {
   "cell_type": "code",
   "execution_count": 1,
   "metadata": {
    "execution": {
     "iopub.execute_input": "2024-04-23T08:01:16.871107Z",
     "iopub.status.busy": "2024-04-23T08:01:16.870896Z",
     "iopub.status.idle": "2024-04-23T08:01:16.888974Z",
     "shell.execute_reply": "2024-04-23T08:01:16.888398Z",
     "shell.execute_reply.started": "2024-04-23T08:01:16.871087Z"
    }
   },
   "outputs": [],
   "source": [
    "%load_ext autoreload\n",
    "%autoreload 2\n",
    "import sys\n",
    "import os\n",
    "os.environ[\"CUDA_VISIBLE_DEVICES\"]=\"0\"\n",
    "codebase = '/output/HiKER-SGG/'\n",
    "sys.path.append(\"/output/HiKER-SGG/\")\n",
    "# sys.path.append('../../../')\n",
    "# sys.path.append('../../../apex')"
   ]
  },
  {
   "cell_type": "code",
   "execution_count": 2,
   "metadata": {
    "execution": {
     "iopub.execute_input": "2024-04-23T08:01:16.890495Z",
     "iopub.status.busy": "2024-04-23T08:01:16.890282Z",
     "iopub.status.idle": "2024-04-23T08:01:17.630371Z",
     "shell.execute_reply": "2024-04-23T08:01:17.629940Z",
     "shell.execute_reply.started": "2024-04-23T08:01:16.890479Z"
    }
   },
   "outputs": [
    {
     "data": {
      "text/plain": [
       "'1.12.0+cu113'"
      ]
     },
     "execution_count": 2,
     "metadata": {},
     "output_type": "execute_result"
    }
   ],
   "source": [
    "import torch\n",
    "torch.__version__"
   ]
  },
  {
   "cell_type": "code",
   "execution_count": 3,
   "metadata": {
    "execution": {
     "iopub.execute_input": "2024-04-23T08:01:17.631317Z",
     "iopub.status.busy": "2024-04-23T08:01:17.630998Z",
     "iopub.status.idle": "2024-04-23T08:01:17.643050Z",
     "shell.execute_reply": "2024-04-23T08:01:17.642485Z",
     "shell.execute_reply.started": "2024-04-23T08:01:17.631303Z"
    }
   },
   "outputs": [],
   "source": [
    "exp_name = 'hikersgg_predcls_test' # Change to the experiment name"
   ]
  },
  {
   "cell_type": "code",
   "execution_count": 4,
   "metadata": {
    "execution": {
     "iopub.execute_input": "2024-04-23T08:01:17.643710Z",
     "iopub.status.busy": "2024-04-23T08:01:17.643565Z",
     "iopub.status.idle": "2024-04-23T08:01:19.393742Z",
     "shell.execute_reply": "2024-04-23T08:01:19.393151Z",
     "shell.execute_reply.started": "2024-04-23T08:01:17.643697Z"
    }
   },
   "outputs": [],
   "source": [
    "import os\n",
    "from time import time as time_time\n",
    "import numpy as np\n",
    "# from torch import optim\n",
    "from apex import amp\n",
    "import torch\n",
    "import pandas as pd\n",
    "from tqdm import tqdm\n",
    "write = tqdm.write\n",
    "\n",
    "from torch.optim.lr_scheduler import ReduceLROnPlateau\n",
    "\n",
    "from config import ModelConfig, BOX_SCALE, IM_SCALE\n",
    "from torch.nn import functional as F\n",
    "from lib.pytorch_misc import optimistic_restore, de_chunkize, clip_grad_norm\n",
    "from lib.evaluation.sg_eval import BasicSceneGraphEvaluator, calculate_mR_from_evaluator_list, eval_entry\n",
    "from lib.pytorch_misc import print_para\n",
    "from dataloaders.visual_genome import VGDataLoader, VG\n",
    "\n",
    "from lib.my_model_24 import KERN\n",
    "\n",
    "# sg val\n",
    "# import numpy\n",
    "# import pyximport\n",
    "# pyximport.install(setup_args={\"script_args\":[\"--compiler=mingw32\"],\n",
    "#                               \"include_dirs\":numpy.get_include()},\n",
    "#                   reload_support=True)\n",
    "# then delete \"script_args\":[\"--compiler=mingw32\"],\n"
   ]
  },
  {
   "cell_type": "code",
   "execution_count": 5,
   "metadata": {
    "execution": {
     "iopub.execute_input": "2024-04-23T08:01:19.394803Z",
     "iopub.status.busy": "2024-04-23T08:01:19.394500Z",
     "iopub.status.idle": "2024-04-23T08:01:19.432387Z",
     "shell.execute_reply": "2024-04-23T08:01:19.431784Z",
     "shell.execute_reply.started": "2024-04-23T08:01:19.394787Z"
    }
   },
   "outputs": [
    {
     "name": "stdout",
     "output_type": "stream",
     "text": [
      "~~~~~~~~ Hyperparameters used: ~~~~~~~\n",
      "ckpt : ../data/checkpoints/kern_predcls/hikersgg_predcls_train/vgrel-10.tar\n",
      "save_dir : \n",
      "num_gpus : 1\n",
      "num_workers : 8\n",
      "lr : 0.0001\n",
      "batch_size : 3\n",
      "val_size : 5000\n",
      "l2 : 0.0001\n",
      "adamwd : 0.0\n",
      "clip : 5.0\n",
      "print_interval : 2500\n",
      "mode : predcls\n",
      "cache : \n",
      "adam : False\n",
      "test : True\n",
      "test_n : False\n",
      "num_epochs : 50\n",
      "use_resnet : False\n",
      "use_proposals : False\n",
      "pooling_dim : 4096\n",
      "use_ggnn_obj : False\n",
      "ggnn_obj_time_step_num : 3\n",
      "ggnn_obj_hidden_dim : 512\n",
      "ggnn_obj_output_dim : 512\n",
      "use_obj_knowledge : False\n",
      "obj_knowledge : \n",
      "use_ggnn_rel : False\n",
      "ggnn_rel_time_step_num : 3\n",
      "ggnn_rel_hidden_dim : 512\n",
      "ggnn_rel_output_dim : 512\n",
      "use_rel_knowledge : False\n",
      "rel_knowledge : \n",
      "tb_log_dir : \n",
      "save_rel_recall : \n"
     ]
    }
   ],
   "source": [
    "# Change ckpt path for the evaluated model\n",
    "# If you want to test on VG-C benchmark, include \"-test_n\" in the command line\n",
    "conf = ModelConfig(f'''\n",
    "-m predcls -p 2500 -clip 5\n",
    "-ckpt ../data/checkpoints/kern_predcls/hikersgg_predcls_train/vgrel-10.tar\n",
    "-b 3\n",
    "-ngpu 1\n",
    "-test\n",
    "-lr 1e-4\n",
    "''')\n",
    "\n",
    "# Also load the corresponding confusion matrix\n",
    "conf_matrix = np.load('/output/data/misc/conf/conf_mat_updated_8.npy') # Remember to change to the path of the confusion matrix\n",
    "np.save('/output/data/misc/conf_mat_updated.npy', conf_matrix)"
   ]
  },
  {
   "cell_type": "code",
   "execution_count": 6,
   "metadata": {
    "execution": {
     "iopub.execute_input": "2024-04-23T08:01:19.433300Z",
     "iopub.status.busy": "2024-04-23T08:01:19.433081Z",
     "iopub.status.idle": "2024-04-23T08:01:19.454669Z",
     "shell.execute_reply": "2024-04-23T08:01:19.454229Z",
     "shell.execute_reply.started": "2024-04-23T08:01:19.433284Z"
    }
   },
   "outputs": [],
   "source": [
    "# modified\n",
    "conf.MODEL.CONF_MAT_FREQ_TRAIN = '/output/data/misc/conf_mat_freq_train.npy'\n",
    "conf.MODEL.LRGA.USE_LRGA = False\n",
    "conf.MODEL.USE_ONTOLOGICAL_ADJUSTMENT = False\n",
    "conf.MODEL.NORMALIZE_EOA = False\n",
    "conf.num_workers = 9\n",
    "# conf.MODEL.LRGA.K = 50\n",
    "# conf.MODEL.LRGA.DROPOUT = 0.5\n",
    "# conf.MODEL.GN.NUM_GROUPS = 1024//8"
   ]
  },
  {
   "cell_type": "code",
   "execution_count": 7,
   "metadata": {
    "execution": {
     "iopub.execute_input": "2024-04-23T08:01:19.456437Z",
     "iopub.status.busy": "2024-04-23T08:01:19.456227Z",
     "iopub.status.idle": "2024-04-23T08:01:19.474472Z",
     "shell.execute_reply": "2024-04-23T08:01:19.474081Z",
     "shell.execute_reply.started": "2024-04-23T08:01:19.456423Z"
    },
    "scrolled": true
   },
   "outputs": [
    {
     "data": {
      "text/plain": [
       "'/output/HiKER-SGG/ipynb/eval_predcls'"
      ]
     },
     "execution_count": 7,
     "metadata": {},
     "output_type": "execute_result"
    }
   ],
   "source": [
    "os.getcwd()"
   ]
  },
  {
   "cell_type": "code",
   "execution_count": 8,
   "metadata": {
    "execution": {
     "iopub.execute_input": "2024-04-23T08:01:19.475321Z",
     "iopub.status.busy": "2024-04-23T08:01:19.475005Z",
     "iopub.status.idle": "2024-04-23T08:01:23.918832Z",
     "shell.execute_reply": "2024-04-23T08:01:23.918196Z",
     "shell.execute_reply.started": "2024-04-23T08:01:19.475307Z"
    }
   },
   "outputs": [
    {
     "name": "stdout",
     "output_type": "stream",
     "text": [
      "Dataloader NOT using BPL\n",
      "Dataloader NOT using BPL\n",
      "Dataloader NOT using BPL\n"
     ]
    }
   ],
   "source": [
    "train, val, test = VG.splits(num_val_im=conf.val_size, filter_duplicate_rels=True,\n",
    "                            use_proposals=conf.use_proposals,\n",
    "                            filter_non_overlap=conf.mode == 'sgdet',\n",
    "                            with_clean_classifier=False,\n",
    "                            get_state=False, test_n=conf.test_n)\n"
   ]
  },
  {
   "cell_type": "code",
   "execution_count": 9,
   "metadata": {
    "execution": {
     "iopub.execute_input": "2024-04-23T08:01:23.919728Z",
     "iopub.status.busy": "2024-04-23T08:01:23.919553Z",
     "iopub.status.idle": "2024-04-23T08:01:23.945580Z",
     "shell.execute_reply": "2024-04-23T08:01:23.945044Z",
     "shell.execute_reply.started": "2024-04-23T08:01:23.919713Z"
    }
   },
   "outputs": [],
   "source": [
    "ind_to_predicates = train.ind_to_predicates # ind_to_predicates[0] means no relationship\n",
    "# Evaluate on test set\n",
    "# Here we let val = test since we want to call val_epoch() for evaluation\n",
    "if conf.test or conf.test_n:\n",
    "    val = test"
   ]
  },
  {
   "cell_type": "code",
   "execution_count": 10,
   "metadata": {
    "execution": {
     "iopub.execute_input": "2024-04-23T08:01:23.946480Z",
     "iopub.status.busy": "2024-04-23T08:01:23.946320Z",
     "iopub.status.idle": "2024-04-23T08:01:23.967119Z",
     "shell.execute_reply": "2024-04-23T08:01:23.966676Z",
     "shell.execute_reply.started": "2024-04-23T08:01:23.946460Z"
    }
   },
   "outputs": [],
   "source": [
    "_, train_loader = VGDataLoader.splits(train, train, mode='rel',\n",
    "                                               batch_size=conf.batch_size,\n",
    "                                               num_workers=conf.num_workers,\n",
    "                                               num_gpus=conf.num_gpus,\n",
    "                                               pin_memory=True)"
   ]
  },
  {
   "cell_type": "code",
   "execution_count": 11,
   "metadata": {
    "execution": {
     "iopub.execute_input": "2024-04-23T08:01:23.967918Z",
     "iopub.status.busy": "2024-04-23T08:01:23.967712Z",
     "iopub.status.idle": "2024-04-23T08:01:23.987975Z",
     "shell.execute_reply": "2024-04-23T08:01:23.987525Z",
     "shell.execute_reply.started": "2024-04-23T08:01:23.967905Z"
    }
   },
   "outputs": [],
   "source": [
    "_, val_loader = VGDataLoader.splits(train, val, mode='rel',\n",
    "                                               batch_size=conf.batch_size,\n",
    "                                               num_workers=conf.num_workers,\n",
    "                                               num_gpus=conf.num_gpus,\n",
    "                                               pin_memory=True)"
   ]
  },
  {
   "cell_type": "code",
   "execution_count": 12,
   "metadata": {
    "execution": {
     "iopub.execute_input": "2024-04-23T08:01:23.988686Z",
     "iopub.status.busy": "2024-04-23T08:01:23.988537Z",
     "iopub.status.idle": "2024-04-23T08:01:30.699425Z",
     "shell.execute_reply": "2024-04-23T08:01:30.698758Z",
     "shell.execute_reply.started": "2024-04-23T08:01:23.988673Z"
    }
   },
   "outputs": [
    {
     "name": "stdout",
     "output_type": "stream",
     "text": [
      "my_ggnn_10: not using use_ontological_adjustment. self.use_ontological_adjustment=False\n",
      "!!!!!!!!!With Confusion Matrix Channel!!!!!\n",
      "SA: Used adj_normalize\n"
     ]
    }
   ],
   "source": [
    "detector = KERN(classes=train.ind_to_classes, rel_classes=train.ind_to_predicates,\n",
    "                num_gpus=conf.num_gpus, mode=conf.mode, require_overlap_det=True,\n",
    "                use_resnet=conf.use_resnet, use_proposals=conf.use_proposals, pooling_dim=conf.pooling_dim,\n",
    "                ggnn_rel_time_step_num=3, ggnn_rel_hidden_dim=1024, ggnn_rel_output_dim=None,\n",
    "                graph_path=os.path.join(codebase, 'graphs/005/all_edges_with_sccluster2_pred_ent.pkl'),\n",
    "                emb_path=os.path.join(codebase, 'graphs/001/emb_mtx_with_sccluster2_pred_ent.pkl'),\n",
    "                rel_counts_path=os.path.join(codebase, 'graphs/001/pred_counts.pkl'),\n",
    "                use_knowledge=True, use_embedding=True, refine_obj_cls=False,\n",
    "                class_volume=1.0, with_clean_classifier=True, with_transfer=True, sa=True, config=conf,\n",
    "               )"
   ]
  },
  {
   "cell_type": "code",
   "execution_count": 13,
   "metadata": {
    "execution": {
     "iopub.execute_input": "2024-04-23T08:01:30.700710Z",
     "iopub.status.busy": "2024-04-23T08:01:30.700530Z",
     "iopub.status.idle": "2024-04-23T08:01:34.414802Z",
     "shell.execute_reply": "2024-04-23T08:01:34.413928Z",
     "shell.execute_reply.started": "2024-04-23T08:01:30.700693Z"
    }
   },
   "outputs": [],
   "source": [
    "ckpt = torch.load(conf.ckpt)\n",
    "optimistic_restore(detector, ckpt['state_dict'], skip_clean=False)\n",
    "detector.cuda();"
   ]
  },
  {
   "cell_type": "code",
   "execution_count": 14,
   "metadata": {
    "execution": {
     "iopub.execute_input": "2024-04-23T08:01:34.415578Z",
     "iopub.status.busy": "2024-04-23T08:01:34.415409Z",
     "iopub.status.idle": "2024-04-23T08:01:34.444247Z",
     "shell.execute_reply": "2024-04-23T08:01:34.443264Z",
     "shell.execute_reply.started": "2024-04-23T08:01:34.415563Z"
    }
   },
   "outputs": [
    {
     "name": "stdout",
     "output_type": "stream",
     "text": [
      "\n",
      " 455.9M total parameters \n",
      " ----- \n",
      " \n",
      "detector.roi_fmap.0.weight                        : [4096,25088]    (102760448) (grad)\n",
      "roi_fmap.1.0.weight                               : [4096,25088]    (102760448) (grad)\n",
      "roi_fmap_obj.0.weight                             : [4096,25088]    (102760448) (grad)\n",
      "detector.roi_fmap.3.weight                        : [4096,4096]     (16777216) (grad)\n",
      "roi_fmap.1.3.weight                               : [4096,4096]     (16777216) (grad)\n",
      "roi_fmap_obj.3.weight                             : [4096,4096]     (16777216) (grad)\n",
      "ggnn_rel_reason.ggnn.fc_mp_receive_ont_ent.model.0.linear.weight: [3840,3840]     (14745600) (grad)\n",
      "ggnn_rel_reason.ggnn.fc_mp_receive_ont_pred.model.0.linear.weight: [2560,2560]     ( 6553600) (grad)\n",
      "ggnn_rel_reason.obj_proj.weight                   : [1024,4096]     ( 4194304) (grad)\n",
      "ggnn_rel_reason.rel_proj.weight                   : [1024,4096]     ( 4194304) (grad)\n",
      "ggnn_rel_reason.ggnn.fc_mp_receive_ont_ent.model.2.linear.weight: [1024,3840]     ( 3932160) (grad)\n",
      "ggnn_rel_reason.ggnn.fc_mp_receive_ont_pred.model.2.linear.weight: [1024,2560]     ( 2621440) (grad)\n",
      "detector.bbox_fc.weight                           : [604,4096]      ( 2473984) (grad)\n",
      "detector.features.19.weight                       : [512,512,3,3]   ( 2359296) (grad)\n",
      "detector.features.21.weight                       : [512,512,3,3]   ( 2359296) (grad)\n",
      "detector.features.24.weight                       : [512,512,3,3]   ( 2359296) (grad)\n",
      "detector.features.26.weight                       : [512,512,3,3]   ( 2359296) (grad)\n",
      "detector.features.28.weight                       : [512,512,3,3]   ( 2359296) (grad)\n",
      "detector.rpn_head.conv.0.weight                   : [512,512,3,3]   ( 2359296) (grad)\n",
      "detector.features.17.weight                       : [512,256,3,3]   ( 1179648) (grad)\n",
      "union_boxes.conv.4.weight                         : [512,256,3,3]   ( 1179648) (grad)\n",
      "ggnn_rel_reason.ggnn.fc_eq3_w_ont_ent.weight      : [1024,1024]     ( 1048576) (grad)\n",
      "ggnn_rel_reason.ggnn.fc_eq3_u_ont_ent.weight      : [1024,1024]     ( 1048576) (grad)\n",
      "ggnn_rel_reason.ggnn.fc_eq4_w_ont_ent.weight      : [1024,1024]     ( 1048576) (grad)\n",
      "ggnn_rel_reason.ggnn.fc_eq4_u_ont_ent.weight      : [1024,1024]     ( 1048576) (grad)\n",
      "ggnn_rel_reason.ggnn.fc_eq5_w_ont_ent.weight      : [1024,1024]     ( 1048576) (grad)\n",
      "ggnn_rel_reason.ggnn.fc_eq5_u_ont_ent.weight      : [1024,1024]     ( 1048576) (grad)\n",
      "ggnn_rel_reason.ggnn.fc_eq3_w_ont_pred.weight     : [1024,1024]     ( 1048576) (grad)\n",
      "ggnn_rel_reason.ggnn.fc_eq3_u_ont_pred.weight     : [1024,1024]     ( 1048576) (grad)\n",
      "ggnn_rel_reason.ggnn.fc_eq4_w_ont_pred.weight     : [1024,1024]     ( 1048576) (grad)\n",
      "ggnn_rel_reason.ggnn.fc_eq4_u_ont_pred.weight     : [1024,1024]     ( 1048576) (grad)\n",
      "ggnn_rel_reason.ggnn.fc_eq5_w_ont_pred.weight     : [1024,1024]     ( 1048576) (grad)\n",
      "ggnn_rel_reason.ggnn.fc_eq5_u_ont_pred.weight     : [1024,1024]     ( 1048576) (grad)\n",
      "ggnn_rel_reason.ggnn.fc_eq3_w_img_ent.weight      : [1024,1024]     ( 1048576) (grad)\n",
      "ggnn_rel_reason.ggnn.fc_eq3_u_img_ent.weight      : [1024,1024]     ( 1048576) (grad)\n",
      "ggnn_rel_reason.ggnn.fc_eq4_w_img_ent.weight      : [1024,1024]     ( 1048576) (grad)\n",
      "ggnn_rel_reason.ggnn.fc_eq4_u_img_ent.weight      : [1024,1024]     ( 1048576) (grad)\n",
      "ggnn_rel_reason.ggnn.fc_eq5_w_img_ent.weight      : [1024,1024]     ( 1048576) (grad)\n",
      "ggnn_rel_reason.ggnn.fc_eq5_u_img_ent.weight      : [1024,1024]     ( 1048576) (grad)\n",
      "ggnn_rel_reason.ggnn.fc_eq3_w_img_pred.weight     : [1024,1024]     ( 1048576) (grad)\n",
      "ggnn_rel_reason.ggnn.fc_eq3_u_img_pred.weight     : [1024,1024]     ( 1048576) (grad)\n",
      "ggnn_rel_reason.ggnn.fc_eq4_w_img_pred.weight     : [1024,1024]     ( 1048576) (grad)\n",
      "ggnn_rel_reason.ggnn.fc_eq4_u_img_pred.weight     : [1024,1024]     ( 1048576) (grad)\n",
      "ggnn_rel_reason.ggnn.fc_eq5_w_img_pred.weight     : [1024,1024]     ( 1048576) (grad)\n",
      "ggnn_rel_reason.ggnn.fc_eq5_u_img_pred.weight     : [1024,1024]     ( 1048576) (grad)\n",
      "ggnn_rel_reason.ggnn.fc_output_proj_img_pred.model.0.linear.weight: [1024,1024]     ( 1048576) (grad)\n",
      "ggnn_rel_reason.ggnn.fc_output_proj_img_pred.model.2.linear.weight: [1024,1024]     ( 1048576) (grad)\n",
      "ggnn_rel_reason.ggnn.fc_output_proj_ont_pred.model.0.linear.weight: [1024,1024]     ( 1048576) (grad)\n",
      "ggnn_rel_reason.ggnn.fc_output_proj_ont_pred.model.2.linear.weight: [1024,1024]     ( 1048576) (grad)\n",
      "ggnn_rel_reason.ggnn.fc_output_proj_img_pred_clean.model.0.linear.weight: [1024,1024]     ( 1048576) (grad)\n",
      "ggnn_rel_reason.ggnn.fc_output_proj_img_pred_clean.model.2.linear.weight: [1024,1024]     ( 1048576) (grad)\n",
      "ggnn_rel_reason.ggnn.fc_output_proj_ont_pred_clean.model.0.linear.weight: [1024,1024]     ( 1048576) (grad)\n",
      "ggnn_rel_reason.ggnn.fc_output_proj_ont_pred_clean.model.2.linear.weight: [1024,1024]     ( 1048576) (grad)\n",
      "ggnn_rel_reason.ggnn.fc_mp_receive_img_ent.model.2.linear.weight: [1024,768]      (  786432) (grad)\n",
      "ggnn_rel_reason.ggnn.fc_mp_receive_img_pred.model.2.linear.weight: [1024,768]      (  786432) (grad)\n",
      "detector.score_fc.weight                          : [151,4096]      (  618496) (grad)\n",
      "detector.features.12.weight                       : [256,256,3,3]   (  589824) (grad)\n",
      "detector.features.14.weight                       : [256,256,3,3]   (  589824) (grad)\n",
      "ggnn_rel_reason.ggnn.fc_mp_receive_img_ent.model.0.linear.weight: [768,768]       (  589824) (grad)\n",
      "ggnn_rel_reason.ggnn.fc_mp_receive_img_pred.model.0.linear.weight: [768,768]       (  589824) (grad)\n",
      "ggnn_rel_reason.ggnn.fc_mp_send_ont_ent.model.0.linear.weight: [512,1024]      (  524288) (grad)\n",
      "ggnn_rel_reason.ggnn.fc_mp_send_ont_pred.model.0.linear.weight: [512,1024]      (  524288) (grad)\n",
      "ggnn_rel_reason.ggnn.fc_mp_send_img_ent.model.0.linear.weight: [512,1024]      (  524288) (grad)\n",
      "ggnn_rel_reason.ggnn.fc_mp_send_img_pred.model.0.linear.weight: [512,1024]      (  524288) (grad)\n",
      "ggnn_rel_reason.ggnn.fc_init_ont_ent.weight       : [1024,300]      (  307200) (grad)\n",
      "ggnn_rel_reason.ggnn.fc_init_ont_pred.weight      : [1024,300]      (  307200) (grad)\n",
      "detector.features.10.weight                       : [256,128,3,3]   (  294912) (grad)\n",
      "detector.features.7.weight                        : [128,128,3,3]   (  147456) (grad)\n",
      "ggnn_rel_reason.ggnn.fc_mp_send_ont_ent.model.2.linear.weight: [256,512]       (  131072) (grad)\n",
      "ggnn_rel_reason.ggnn.fc_mp_send_ont_pred.model.2.linear.weight: [256,512]       (  131072) (grad)\n",
      "ggnn_rel_reason.ggnn.fc_mp_send_img_ent.model.2.linear.weight: [256,512]       (  131072) (grad)\n",
      "ggnn_rel_reason.ggnn.fc_mp_send_img_pred.model.2.linear.weight: [256,512]       (  131072) (grad)\n",
      "detector.features.5.weight                        : [128,64,3,3]    (   73728) (grad)\n",
      "detector.rpn_head.conv.2.weight                   : [120,512,1,1]   (   61440) (grad)\n",
      "detector.features.2.weight                        : [64,64,3,3]     (   36864) (grad)\n",
      "union_boxes.conv.0.weight                         : [256,2,7,7]     (   25088) (grad)\n",
      "detector.features.0.weight                        : [64,3,3,3]      (    1728) (grad)\n",
      "union_boxes.conv.6.weight                         : [512]           (     512) (grad)\n",
      "union_boxes.conv.2.weight                         : [256]           (     256) (grad)\n"
     ]
    }
   ],
   "source": [
    "print(print_para(detector), flush=True)"
   ]
  },
  {
   "cell_type": "code",
   "execution_count": 15,
   "metadata": {
    "execution": {
     "iopub.execute_input": "2024-04-23T08:01:34.445123Z",
     "iopub.status.busy": "2024-04-23T08:01:34.444817Z",
     "iopub.status.idle": "2024-04-23T08:01:34.468531Z",
     "shell.execute_reply": "2024-04-23T08:01:34.468073Z",
     "shell.execute_reply.started": "2024-04-23T08:01:34.445108Z"
    }
   },
   "outputs": [],
   "source": [
    "from torch import no_grad as torch_no_grad\n",
    "from tqdm import tqdm\n",
    "\n",
    "def val_epoch():\n",
    "    detector.eval()\n",
    "    evaluator_list = [] # for calculating recall of each relationship except no relationship\n",
    "    evaluator_multiple_preds_list = []\n",
    "    for index, name in enumerate(ind_to_predicates):\n",
    "        if index == 0:\n",
    "            continue\n",
    "        evaluator_list.append((index, name, BasicSceneGraphEvaluator.all_modes()))\n",
    "        evaluator_multiple_preds_list.append((index, name, BasicSceneGraphEvaluator.all_modes(multiple_preds=True)))\n",
    "    evaluator = BasicSceneGraphEvaluator.all_modes() # for calculating recall\n",
    "    evaluator_multiple_preds = BasicSceneGraphEvaluator.all_modes(multiple_preds=True)\n",
    "\n",
    "    prog_bar = tqdm(enumerate(val_loader), total=int(len(val)/val_loader.batch_size))\n",
    "\n",
    "    with torch_no_grad():\n",
    "        for val_b, batch in prog_bar:\n",
    "            val_batch(conf.num_gpus * val_b, batch, evaluator, evaluator_multiple_preds, evaluator_list, evaluator_multiple_preds_list)\n",
    "\n",
    "    recall = evaluator[conf.mode].print_stats()\n",
    "    recall_mp = evaluator_multiple_preds[conf.mode].print_stats()\n",
    "\n",
    "    mean_recall = calculate_mR_from_evaluator_list(evaluator_list, conf.mode)\n",
    "    mean_recall_mp = calculate_mR_from_evaluator_list(evaluator_multiple_preds_list, conf.mode, multiple_preds=True)\n",
    "\n",
    "    detector.train()\n",
    "    return recall, recall_mp, mean_recall, mean_recall_mp\n"
   ]
  },
  {
   "cell_type": "code",
   "execution_count": 16,
   "metadata": {
    "execution": {
     "iopub.execute_input": "2024-04-23T08:01:34.469267Z",
     "iopub.status.busy": "2024-04-23T08:01:34.469112Z",
     "iopub.status.idle": "2024-04-23T08:01:34.491062Z",
     "shell.execute_reply": "2024-04-23T08:01:34.490528Z",
     "shell.execute_reply.started": "2024-04-23T08:01:34.469254Z"
    }
   },
   "outputs": [],
   "source": [
    "from torch.cuda.amp import autocast\n",
    "\n",
    "def val_batch(batch_num, b, evaluator, evaluator_multiple_preds, evaluator_list, evaluator_multiple_preds_list):\n",
    "    with autocast():\n",
    "        det_res = detector[b]\n",
    "    if conf.num_gpus == 1:\n",
    "        det_res = [det_res]\n",
    "\n",
    "    for i, (boxes_i, objs_i, obj_scores_i, rels_i, pred_scores_i) in enumerate(det_res):\n",
    "        gt_entry = {\n",
    "            'gt_classes': val.gt_classes[batch_num + i].copy(),\n",
    "            'gt_relations': val.relationships[batch_num + i].copy(),\n",
    "            'gt_boxes': val.gt_boxes[batch_num + i].copy(),\n",
    "        }\n",
    "        assert np.all(objs_i[rels_i[:, 0]] > 0) and np.all(objs_i[rels_i[:, 1]] > 0)\n",
    "\n",
    "        pred_entry = {\n",
    "            'pred_boxes': boxes_i * BOX_SCALE/IM_SCALE,\n",
    "            'pred_classes': objs_i,\n",
    "            'pred_rel_inds': rels_i,\n",
    "            'obj_scores': obj_scores_i,\n",
    "            'rel_scores': pred_scores_i,  # hack for now.\n",
    "        }\n",
    "\n",
    "        eval_entry(conf.mode, gt_entry, pred_entry, evaluator, evaluator_multiple_preds, \n",
    "                   evaluator_list, evaluator_multiple_preds_list)\n",
    "\n"
   ]
  },
  {
   "cell_type": "code",
   "execution_count": 17,
   "metadata": {
    "execution": {
     "iopub.execute_input": "2024-04-23T08:01:34.491966Z",
     "iopub.status.busy": "2024-04-23T08:01:34.491815Z",
     "iopub.status.idle": "2024-04-23T08:28:16.787364Z",
     "shell.execute_reply": "2024-04-23T08:28:16.786865Z",
     "shell.execute_reply.started": "2024-04-23T08:01:34.491952Z"
    },
    "tags": []
   },
   "outputs": [
    {
     "name": "stderr",
     "output_type": "stream",
     "text": [
      "100%|██████████| 26446/26446 [26:40<00:00, 16.52it/s]"
     ]
    },
    {
     "name": "stdout",
     "output_type": "stream",
     "text": [
      "======================predcls  recall with constraint============================\n",
      "R@20: 0.202644\n",
      "R@50: 0.249882\n",
      "R@100: 0.267186\n",
      "======================predcls  recall without constraint============================\n",
      "R@20: 0.307338\n",
      "R@50: 0.492531\n",
      "R@100: 0.644086\n",
      "\n",
      "\n",
      "======================predcls  mean recall with constraint============================\n",
      "mR@20:  0.3078203206168518\n",
      "mR@50:  0.36648185583374454\n",
      "mR@100:  0.38839326286825604\n"
     ]
    },
    {
     "name": "stderr",
     "output_type": "stream",
     "text": [
      "\n"
     ]
    },
    {
     "name": "stdout",
     "output_type": "stream",
     "text": [
      "\n",
      "\n",
      "======================predcls  mean recall without constraint============================\n",
      "mR@20:  0.3945585751297657\n",
      "mR@50:  0.5447217917113147\n",
      "mR@100:  0.6564887474256572\n"
     ]
    }
   ],
   "source": [
    "detector.eval()\n",
    "\n",
    "recall, recall_mp, mean_recall, mean_recall_mp = val_epoch()"
   ]
  }
 ],
 "metadata": {
  "kernelspec": {
   "display_name": "hiker-sgg",
   "language": "python",
   "name": "hiker-sgg"
  },
  "language_info": {
   "codemirror_mode": {
    "name": "ipython",
    "version": 3
   },
   "file_extension": ".py",
   "mimetype": "text/x-python",
   "name": "python",
   "nbconvert_exporter": "python",
   "pygments_lexer": "ipython3",
   "version": "3.8.0"
  }
 },
 "nbformat": 4,
 "nbformat_minor": 4
}
